{
 "cells": [
  {
   "cell_type": "markdown",
   "metadata": {},
   "source": [
    "## Q1. Chi Square Test"
   ]
  },
  {
   "cell_type": "code",
   "execution_count": 1,
   "metadata": {},
   "outputs": [],
   "source": [
    "#TODO\n",
    "\n",
    "\n",
    "import pandas as pd\n",
    "import json\n",
    "import numpy as np\n",
    "\n",
    "business_path = \"/Users/Andy/Desktop/yelp_academic_dataset_business.json\"\n",
    "business_doc=open(business_path, encoding=\"utf8\").readlines()\n",
    "\n",
    "busList = []\n",
    "for bus in business_doc:\n",
    "    busList.append(json.loads(bus))\n",
    "\n",
    "dfBus = pd.DataFrame.from_records(busList)\n",
    "dfBus = dfBus.dropna()\n",
    "from pandas.io.json import json_normalize"
   ]
  },
  {
   "cell_type": "code",
   "execution_count": 2,
   "metadata": {},
   "outputs": [],
   "source": [
    "open_df = dfBus.loc[:,'is_open']\n",
    "estrella_df = dfBus.loc[:,'stars']\n",
    "\n",
    "stars = estrella_df.values\n",
    "\n",
    "bin_stars = [1 if (star > 2.5) else 0 for star in stars]\n",
    "\n",
    "bin_stars = np.array(bin_stars) #1 for above 2.5 stars 0 for 2.5 and below\n",
    "\n",
    "is_open = open_df.values #1 for open 0 for closed\n",
    "\n",
    "\n",
    "##########################################################################\n",
    "##########Data gathered, lets make observed & expected dataframes#########\n",
    "##########################################################################\n",
    "\n",
    "dfobserved =  pd.DataFrame(columns = ['Business Open' , 'Business Closed', 'Total Stars'], index=['Stars above 2.5', 'Stars below 2.5', 'Total Operating'])\n",
    "\n",
    "##4 variables for each subcat\n",
    "open_above = 0\n",
    "open_below = 0\n",
    "closed_above = 0\n",
    "closed_below = 0\n",
    "\n",
    "for idx, bus_status in enumerate(is_open):\n",
    "\n",
    "    star_status = bin_stars[idx]\n",
    "\n",
    "    if bus_status == 1:\n",
    "        if star_status == 1:\n",
    "            open_above += 1\n",
    "        else:\n",
    "            open_below += 1\n",
    "    else:\n",
    "        if star_status == 1:\n",
    "            closed_above += 1\n",
    "        else:\n",
    "            closed_below += 1\n",
    "\n",
    "\n"
   ]
  },
  {
   "cell_type": "code",
   "execution_count": 3,
   "outputs": [],
   "source": [
    "#####lets fill in observed df########\n",
    "dfobserved[\"Business Open\"][\"Stars above 2.5\"]=open_above\n",
    "dfobserved[\"Business Open\"][\"Stars below 2.5\"]=open_below\n",
    "dfobserved[\"Business Closed\"][\"Stars above 2.5\"]=closed_above\n",
    "dfobserved[\"Business Closed\"][\"Stars below 2.5\"]=closed_below\n",
    "\n",
    "\n",
    "#totals\n",
    "\n",
    "\n",
    "dfobserved[\"Business Open\"][\"Total Operating\"]=dfobserved[['Business Open']].dropna().sum()[0]\n",
    "dfobserved[\"Business Closed\"][\"Total Operating\"]=dfobserved[['Business Closed']].dropna().sum()[0]\n",
    "dfobserved[\"Total Stars\"][\"Stars above 2.5\"]=dfobserved.loc[[\"Stars above 2.5\"]].T.dropna().sum()[0]\n",
    "dfobserved[\"Total Stars\"][\"Stars below 2.5\"]=dfobserved.loc[[\"Stars below 2.5\"]].T.dropna().sum()[0]\n",
    "\n",
    "dfobserved[\"Total Stars\"][\"Total Operating\"]=dfobserved[[\"Total Stars\"]].dropna().sum()[0]\n",
    "\n",
    "\n"
   ],
   "metadata": {
    "collapsed": false,
    "pycharm": {
     "name": "#%%\n"
    }
   }
  },
  {
   "cell_type": "code",
   "execution_count": 4,
   "outputs": [
    {
     "name": "stdout",
     "output_type": "stream",
     "text": [
      "Conclusions:\t The p value is 2.605% for a 95% confidence level, this is too low since it is below 5%\n",
      " We reject the null hypothesis. A business's open/closed status and stars on yelp are not independent.\n"
     ]
    }
   ],
   "source": [
    "import scipy.stats\n",
    "\n",
    "dfNoTot=dfobserved.loc[[\"Stars above 2.5\",\"Stars below 2.5\"],['Business Open','Business Closed']]\n",
    "\n",
    "contingency=pd.crosstab(bin_stars,is_open)\n",
    "contingency.index=[\"Stars below 2.5\",\"Stars above 2.5\"]\n",
    "contingency.columns=[\"Business Closed\",\"Business Open\"]\n",
    "\n",
    "##contingecy and dfnoTot should be the same with some column//row swapping\n",
    "\n",
    "chistat, pval, dof, expected = scipy.stats.chi2_contingency(contingency)\n",
    "\n",
    "\n",
    "#TODO\n",
    "\n",
    "conclusions = \"The p value is %.3f%% for a 95%% confidence level, this is too low since it is below 5%%\\n We reject the null hypothesis. A business's open/closed status and stars on yelp are not independent.\"%(pval*100)\n",
    "print('Conclusions:\\t', conclusions)"
   ],
   "metadata": {
    "collapsed": false,
    "pycharm": {
     "name": "#%%\n"
    }
   }
  },
  {
   "cell_type": "markdown",
   "metadata": {},
   "source": [
    "## Q2. Correlation coefficients"
   ]
  },
  {
   "cell_type": "code",
   "execution_count": 15,
   "outputs": [],
   "source": [
    "user_path = \"/Users/Andy/Desktop/yelp_dataset/hw3/yelp_academic_dataset_user_no_friend.json\"\n",
    "user_doc=open(user_path, encoding=\"utf8\").readlines()\n",
    "\n",
    "\n",
    "userList = []\n",
    "for user in user_doc:\n",
    "    userList.append(json.loads(user))\n",
    "\n",
    "dfUser = pd.DataFrame.from_records(userList)\n",
    "dfUser = dfUser.dropna()\n"
   ],
   "metadata": {
    "collapsed": false,
    "pycharm": {
     "name": "#%%\n"
    }
   }
  },
  {
   "cell_type": "code",
   "execution_count": 17,
   "outputs": [],
   "source": [
    "##generate arrays\n",
    "num_reviews = dfUser[\"review_count\"]\n",
    "num_fans = dfUser[\"fans\"]\n",
    "\n",
    "num_useful=dfUser[\"useful\"]\n",
    "num_funny=dfUser[\"funny\"]\n"
   ],
   "metadata": {
    "collapsed": false,
    "pycharm": {
     "name": "#%%\n"
    }
   }
  },
  {
   "cell_type": "code",
   "execution_count": 23,
   "metadata": {},
   "outputs": [
    {
     "name": "stdout",
     "output_type": "stream",
     "text": [
      "Pearson Coefficient Between the number of reviews and the number of fans:0.538 \n",
      " Pearson Coefficient Between the number of useful and the number of funny received:0.681 \n",
      " Pearson Coefficient Between the number of useful received and the number of fans:0.964\n"
     ]
    }
   ],
   "source": [
    "from scipy.stats import pearsonr\n",
    "\n",
    "#TODO pearson coefficient\n",
    "pear_review_fan, _ = pearsonr(num_reviews, num_fans)\n",
    "pear_useful_funny, _ = pearsonr(num_useful,num_funny)\n",
    "pear_useful_fan, _ = pearsonr(num_useful,num_fans)\n",
    "\n",
    "\n",
    "print(\"Pearson Coefficient Between the number of reviews and the number of fans:%.3f \\n Pearson Coefficient Between the number of useful and the number of funny received:%.3f \\n Pearson Coefficient Between the number of useful received and the number of fans:%.3f\"%(pear_review_fan,pear_useful_fan,pear_useful_funny))"
   ]
  },
  {
   "cell_type": "code",
   "execution_count": 24,
   "outputs": [
    {
     "name": "stdout",
     "output_type": "stream",
     "text": [
      "Spearman Coefficient Between the number of reviews and the number of fans:0.535 \n",
      " Spearman Coefficient Between the number of useful and the number of funny received:0.549 \n",
      " Spearman Coefficient Between the number of useful received and the number of fans:0.774\n"
     ]
    }
   ],
   "source": [
    "from scipy.stats import spearmanr\n",
    "#TODO spearman coefficient\n",
    "spe_review_fan, _ = spearmanr(num_reviews, num_fans)\n",
    "spe_useful_funny, _ = spearmanr(num_useful,num_funny)\n",
    "spe_useful_fan, _ = spearmanr(num_useful,num_fans)\n",
    "\n",
    "\n",
    "print(\"Spearman Coefficient Between the number of reviews and the number of fans:%.3f \\n Spearman Coefficient Between the number of useful and the number of funny received:%.3f \\n Spearman Coefficient Between the number of useful received and the number of fans:%.3f\"%(spe_review_fan,spe_useful_fan,spe_useful_funny))\n"
   ],
   "metadata": {
    "collapsed": false,
    "pycharm": {
     "name": "#%%\n"
    }
   }
  },
  {
   "cell_type": "code",
   "execution_count": 25,
   "outputs": [
    {
     "name": "stdout",
     "output_type": "stream",
     "text": [
      "Conclusions:\t By just looking at the Pearson coefficient, I would argue reviews and fans / useful and funny have moderate, positive correlation. I would also say useful and fans have very high, positive correlation\n",
      " Looking at the Spearman coefficent though, we see useful and fans actually have a high correlation. Not much else changes, all correlations are still positive and the other two pairs don't move much. This might indicate useful has a lot of outliers since calculations where useful was considered were moved the most.\n"
     ]
    }
   ],
   "source": [
    "#TODO\n",
    "conclusions = 'By just looking at the Pearson coefficient, I would argue reviews and fans / useful and funny have moderate, positive correlation. I would also say useful and fans have very high, positive correlation\\n Looking at the Spearman coefficent though, we see useful and fans actually have a high correlation. Not much else changes, all correlations are still positive and the other two pairs don\\'t move much. This might indicate useful has a lot of outliers since calculations where useful was considered were moved the most.'\n",
    "print('Conclusions:\\t', conclusions)"
   ],
   "metadata": {
    "collapsed": false,
    "pycharm": {
     "name": "#%%\n"
    }
   }
  },
  {
   "cell_type": "markdown",
   "source": [
    "## Q3. Association rule"
   ],
   "metadata": {
    "collapsed": false
   }
  },
  {
   "cell_type": "code",
   "execution_count": 9,
   "outputs": [],
   "source": [
    "import re\n",
    "df_AZ = dfBus[dfBus[\"state\"]==\"AZ\"]\n",
    "raw_categories = df_AZ.loc[:,'categories']\n",
    "\n",
    "cats = []\n",
    "for cat in raw_categories:\n",
    "    cats.append(cat)\n",
    "\n",
    "\n",
    "#TODO\n"
   ],
   "metadata": {
    "collapsed": false,
    "pycharm": {
     "name": "#%%\n"
    }
   }
  },
  {
   "cell_type": "code",
   "execution_count": 10,
   "outputs": [
    {
     "data": {
      "text/plain": "[RelationRecord(items=frozenset({'Life', 'Active'}), support=0.05794847521806748, ordered_statistics=[OrderedStatistic(items_base=frozenset({'Active'}), items_add=frozenset({'Life'}), confidence=1.0, lift=16.487179487179485), OrderedStatistic(items_base=frozenset({'Life'}), items_add=frozenset({'Active'}), confidence=0.955406911928651, lift=16.487179487179485)]),\n RelationRecord(items=frozenset({'Restaurants', 'American'}), support=0.05578470484819798, ordered_statistics=[OrderedStatistic(items_base=frozenset({'American'}), items_add=frozenset({'Restaurants'}), confidence=1.0, lift=4.517564402810304)]),\n RelationRecord(items=frozenset({'Automotive', 'Auto'}), support=0.057249757702797124, ordered_statistics=[OrderedStatistic(items_base=frozenset({'Auto'}), items_add=frozenset({'Automotive'}), confidence=0.9818322381136452, lift=11.42132955122918)]),\n RelationRecord(items=frozenset({'Hair', 'Beauty'}), support=0.06371852953771948, ordered_statistics=[OrderedStatistic(items_base=frozenset({'Hair'}), items_add=frozenset({'Beauty'}), confidence=1.0, lift=8.232881796251624)]),\n RelationRecord(items=frozenset({'Beauty', 'Salons'}), support=0.06168999481596682, ordered_statistics=[OrderedStatistic(items_base=frozenset({'Salons'}), items_add=frozenset({'Beauty'}), confidence=1.0, lift=8.232881796251624)]),\n RelationRecord(items=frozenset({'Beauty', 'Spas'}), support=0.1214641512836117, ordered_statistics=[OrderedStatistic(items_base=frozenset({'Beauty'}), items_add=frozenset({'Spas'}), confidence=1.0, lift=8.232881796251624), OrderedStatistic(items_base=frozenset({'Spas'}), items_add=frozenset({'Beauty'}), confidence=1.0, lift=8.232881796251624)]),\n RelationRecord(items=frozenset({'Hair', 'Spas'}), support=0.06371852953771948, ordered_statistics=[OrderedStatistic(items_base=frozenset({'Hair'}), items_add=frozenset({'Spas'}), confidence=1.0, lift=8.232881796251624)]),\n RelationRecord(items=frozenset({'Medical', 'Health'}), support=0.14860143800572498, ordered_statistics=[OrderedStatistic(items_base=frozenset({'Health'}), items_add=frozenset({'Medical'}), confidence=0.9708437638050361, lift=6.510493541224009), OrderedStatistic(items_base=frozenset({'Medical'}), items_add=frozenset({'Health'}), confidence=0.9965235792019348, lift=6.510493541224008)]),\n RelationRecord(items=frozenset({'Spas', 'Salons'}), support=0.06168999481596682, ordered_statistics=[OrderedStatistic(items_base=frozenset({'Salons'}), items_add=frozenset({'Spas'}), confidence=1.0, lift=8.232881796251624)])]"
     },
     "execution_count": 10,
     "metadata": {},
     "output_type": "execute_result"
    }
   ],
   "source": [
    "from apyori import apriori\n",
    "nested = []\n",
    "\n",
    "for desc in cats:\n",
    "    sub = []\n",
    "    key_words = re.findall('[a-zA-Z]+', desc)\n",
    "    for word in key_words:\n",
    "        sub.append(word)\n",
    "    nested.append(sub)\n",
    "\n",
    "rules = apriori(nested, min_support=0.055, min_confidence=0.85,min_lift=3.75,max_length=2)\n",
    "rules = filter(lambda x: len(x.items) > 1, rules)\n",
    "list(rules)"
   ],
   "metadata": {
    "collapsed": false,
    "pycharm": {
     "name": "#%%\n"
    }
   }
  },
  {
   "cell_type": "code",
   "execution_count": 11,
   "outputs": [
    {
     "name": "stdout",
     "output_type": "stream",
     "text": [
      "Conclusions:\t I find the Salons and Spas rule interesting. Since the two have a similar function but different experiences \n",
      " This rule has a lift of 8.232. So if we randomly select a business tagged as Salon, it is more likely to be tagged as a Spa as well.\n"
     ]
    }
   ],
   "source": [
    "#TODO\n",
    "conclusions = 'I find the Salons and Spas rule interesting. Since the two have a similar function but different experiences \\n This rule has a lift of 8.232. So if we randomly select a business tagged as Salon, it is more likely to be tagged as a Spa as well.'\n",
    "print('Conclusions:\\t', conclusions)"
   ],
   "metadata": {
    "collapsed": false,
    "pycharm": {
     "name": "#%%\n"
    }
   }
  },
  {
   "cell_type": "markdown",
   "source": [
    "## Q4. Power law distribution"
   ],
   "metadata": {
    "collapsed": false
   }
  },
  {
   "cell_type": "code",
   "execution_count": 26,
   "outputs": [],
   "source": [
    "review_count = dfBus[\"review_count\"]\n",
    "#TODO ccdf\n"
   ],
   "metadata": {
    "collapsed": false,
    "pycharm": {
     "name": "#%%\n"
    }
   }
  },
  {
   "cell_type": "code",
   "execution_count": 13,
   "outputs": [],
   "source": [
    "#TODO powerlaw\n"
   ],
   "metadata": {
    "collapsed": false,
    "pycharm": {
     "name": "#%%\n"
    }
   }
  },
  {
   "cell_type": "code",
   "execution_count": 14,
   "outputs": [
    {
     "name": "stdout",
     "output_type": "stream",
     "text": [
      "Conclusions:\t your conclusions\n"
     ]
    }
   ],
   "source": [
    "#TODO\n",
    "conclusions = 'your conclusions'\n",
    "print('Conclusions:\\t', conclusions)\n"
   ],
   "metadata": {
    "collapsed": false,
    "pycharm": {
     "name": "#%%\n"
    }
   }
  }
 ],
 "metadata": {
  "kernelspec": {
   "display_name": "Python 3",
   "language": "python",
   "name": "python3"
  },
  "language_info": {
   "codemirror_mode": {
    "name": "ipython",
    "version": 3
   },
   "file_extension": ".py",
   "mimetype": "text/x-python",
   "name": "python",
   "nbconvert_exporter": "python",
   "pygments_lexer": "ipython3",
   "version": "3.8.5"
  }
 },
 "nbformat": 4,
 "nbformat_minor": 4
}