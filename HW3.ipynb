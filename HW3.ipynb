{
 "cells": [
  {
   "cell_type": "markdown",
   "metadata": {},
   "source": [
    "## Q1. Chi Square Test"
   ]
  },
  {
   "cell_type": "code",
   "execution_count": 1,
   "metadata": {},
   "outputs": [],
   "source": [
    "#TODO\n",
    "\n",
    "\n",
    "import pandas as pd\n",
    "import json\n",
    "import numpy as np\n",
    "\n",
    "business_path = \"/Users/Andy/Desktop/yelp_academic_dataset_business.json\"\n",
    "business_doc=open(business_path, encoding=\"utf8\").readlines()\n",
    "\n",
    "busList = []\n",
    "for bus in business_doc:\n",
    "    busList.append(json.loads(bus))\n",
    "\n",
    "dfBus = pd.DataFrame.from_records(busList)\n",
    "dfBus = dfBus.dropna()\n",
    "from pandas.io.json import json_normalize"
   ]
  },
  {
   "cell_type": "code",
   "execution_count": 2,
   "metadata": {},
   "outputs": [],
   "source": [
    "open_df = dfBus.loc[:,'is_open']\n",
    "estrella_df = dfBus.loc[:,'stars']\n",
    "\n",
    "stars = estrella_df.values\n",
    "\n",
    "bin_stars = [1 if (star > 2.5) else 0 for star in stars]\n",
    "\n",
    "bin_stars = np.array(bin_stars) #1 for above 2.5 stars 0 for 2.5 and below\n",
    "\n",
    "is_open = open_df.values #1 for open 0 for closed\n",
    "\n",
    "\n",
    "##########################################################################\n",
    "##########Data gathered, lets make observed & expected dataframes#########\n",
    "##########################################################################\n",
    "\n",
    "dfobserved =  pd.DataFrame(columns = ['Business Open' , 'Business Closed', 'Total Stars'], index=['Stars above 2.5', 'Stars below 2.5', 'Total Operating'])\n",
    "\n",
    "##4 variables for each subcat\n",
    "open_above = 0\n",
    "open_below = 0\n",
    "closed_above = 0\n",
    "closed_below = 0\n",
    "\n",
    "for idx, bus_status in enumerate(is_open):\n",
    "\n",
    "    star_status = bin_stars[idx]\n",
    "\n",
    "    if bus_status == 1:\n",
    "        if star_status == 1:\n",
    "            open_above += 1\n",
    "        else:\n",
    "            open_below += 1\n",
    "    else:\n",
    "        if star_status == 1:\n",
    "            closed_above += 1\n",
    "        else:\n",
    "            closed_below += 1\n",
    "\n",
    "\n"
   ]
  },
  {
   "cell_type": "code",
   "execution_count": 3,
   "outputs": [
    {
     "name": "stdout",
     "output_type": "stream",
     "text": [
      "Conclusions:\t your conclusions\n"
     ]
    }
   ],
   "source": [
    "#####lets fill in observed df########\n",
    "dfobserved[\"Business Open\"][\"Stars above 2.5\"]=open_above\n",
    "\n",
    "#TODO\n",
    "conclusions = 'your conclusions'\n",
    "print('Conclusions:\\t', conclusions)"
   ],
   "metadata": {
    "collapsed": false,
    "pycharm": {
     "name": "#%%\n"
    }
   }
  },
  {
   "cell_type": "markdown",
   "metadata": {},
   "source": [
    "## Q2. Correlation coefficients"
   ]
  },
  {
   "cell_type": "code",
   "execution_count": 4,
   "metadata": {},
   "outputs": [],
   "source": [
    "#TODO pearson coefficient\n"
   ]
  },
  {
   "cell_type": "code",
   "execution_count": 5,
   "metadata": {},
   "outputs": [],
   "source": [
    "#TODO spearman coefficient\n"
   ]
  },
  {
   "cell_type": "code",
   "execution_count": 6,
   "metadata": {},
   "outputs": [
    {
     "name": "stdout",
     "output_type": "stream",
     "text": [
      "Conclusions:\t your conclusions\n"
     ]
    }
   ],
   "source": [
    "#TODO\n",
    "conclusions = 'your conclusions'\n",
    "print('Conclusions:\\t', conclusions)"
   ]
  },
  {
   "cell_type": "markdown",
   "metadata": {},
   "source": [
    "## Q3. Association rule"
   ]
  },
  {
   "cell_type": "code",
   "execution_count": 7,
   "metadata": {},
   "outputs": [],
   "source": [
    "import re\n",
    "df_AZ = dfBus[dfBus[\"state\"]==\"AZ\"]\n",
    "raw_categories = df_AZ.loc[:,'categories']\n",
    "\n",
    "cats = []\n",
    "for cat in raw_categories:\n",
    "    cats.append(cat)\n",
    "\n",
    "\n",
    "#TODO\n"
   ]
  },
  {
   "cell_type": "code",
   "execution_count": 13,
   "outputs": [],
   "source": [
    "\n",
    "nested = []\n",
    "\n",
    "for desc in cats:\n",
    "    sub = []\n",
    "    key_words = re.findall('[a-zA-Z]+', desc)\n",
    "    for word in key_words:\n",
    "        sub.append(word)\n",
    "    nested.append(sub)\n",
    "\n"
   ],
   "metadata": {
    "collapsed": false,
    "pycharm": {
     "name": "#%%\n"
    }
   }
  },
  {
   "cell_type": "code",
   "execution_count": 9,
   "metadata": {},
   "outputs": [
    {
     "name": "stdout",
     "output_type": "stream",
     "text": [
      "Conclusions:\t your conclusions\n"
     ]
    }
   ],
   "source": [
    "#TODO\n",
    "conclusions = 'your conclusions'\n",
    "print('Conclusions:\\t', conclusions)"
   ]
  },
  {
   "cell_type": "markdown",
   "metadata": {},
   "source": [
    "## Q4. Power law distribution"
   ]
  },
  {
   "cell_type": "code",
   "execution_count": 10,
   "metadata": {},
   "outputs": [],
   "source": [
    "#TODO ccdf\n"
   ]
  },
  {
   "cell_type": "code",
   "execution_count": 11,
   "metadata": {},
   "outputs": [],
   "source": [
    "#TODO powerlaw\n"
   ]
  },
  {
   "cell_type": "code",
   "execution_count": 12,
   "metadata": {},
   "outputs": [
    {
     "name": "stdout",
     "output_type": "stream",
     "text": [
      "Conclusions:\t your conclusions\n"
     ]
    }
   ],
   "source": [
    "#TODO\n",
    "conclusions = 'your conclusions'\n",
    "print('Conclusions:\\t', conclusions)"
   ]
  }
 ],
 "metadata": {
  "kernelspec": {
   "display_name": "Python 3",
   "language": "python",
   "name": "python3"
  },
  "language_info": {
   "codemirror_mode": {
    "name": "ipython",
    "version": 3
   },
   "file_extension": ".py",
   "mimetype": "text/x-python",
   "name": "python",
   "nbconvert_exporter": "python",
   "pygments_lexer": "ipython3",
   "version": "3.8.5"
  }
 },
 "nbformat": 4,
 "nbformat_minor": 4
}