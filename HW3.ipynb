{
 "cells": [
  {
   "cell_type": "markdown",
   "metadata": {},
   "source": [
    "## Q1. Chi Square Test"
   ]
  },
  {
   "cell_type": "code",
   "execution_count": 70,
   "metadata": {},
   "outputs": [],
   "source": [
    "#TODO\n",
    "\n",
    "\n",
    "import pandas as pd\n",
    "import json\n",
    "import numpy as np\n",
    "\n",
    "business_path = \"/Users/Andy/Desktop/yelp_academic_dataset_business.json\"\n",
    "business_doc=open(business_path, encoding=\"utf8\").readlines()\n",
    "\n",
    "busList = []\n",
    "for bus in business_doc:\n",
    "    busList.append(json.loads(bus))\n",
    "\n",
    "dfBus = pd.DataFrame.from_records(busList)\n",
    "dfBus = dfBus.dropna()\n",
    "from pandas.io.json import json_normalize"
   ]
  },
  {
   "cell_type": "code",
   "execution_count": 71,
   "metadata": {},
   "outputs": [],
   "source": [
    "open_df = dfBus.loc[:,'is_open']\n",
    "estrella_df = dfBus.loc[:,'stars']\n",
    "\n",
    "stars = estrella_df.values\n",
    "\n",
    "bin_stars = [1 if (star > 2.5) else 0 for star in stars]\n",
    "\n",
    "bin_stars = np.array(bin_stars) #1 for above 2.5 stars 0 for 2.5 and below\n",
    "\n",
    "is_open = open_df.values #1 for open 0 for closed\n",
    "\n",
    "\n",
    "##########################################################################\n",
    "##########Data gathered, lets make observed & expected dataframes#########\n",
    "##########################################################################\n",
    "\n",
    "dfobserved =  pd.DataFrame(columns = ['Business Open' , 'Business Closed', 'Total Stars'], index=['Stars above 2.5', 'Stars below 2.5', 'Total Operating'])\n",
    "\n",
    "##4 variables for each subcat\n",
    "open_above = 0\n",
    "open_below = 0\n",
    "closed_above = 0\n",
    "closed_below = 0\n",
    "\n",
    "for idx, bus_status in enumerate(is_open):\n",
    "\n",
    "    star_status = bin_stars[idx]\n",
    "\n",
    "    if bus_status == 1:\n",
    "        if star_status == 1:\n",
    "            open_above += 1\n",
    "        else:\n",
    "            open_below += 1\n",
    "    else:\n",
    "        if star_status == 1:\n",
    "            closed_above += 1\n",
    "        else:\n",
    "            closed_below += 1\n",
    "\n",
    "\n"
   ]
  },
  {
   "cell_type": "code",
   "execution_count": 72,
   "outputs": [
    {
     "name": "stdout",
     "output_type": "stream",
     "text": [
      "Conclusions:\t your conclusions\n"
     ]
    }
   ],
   "source": [
    "#####lets fill in observed df########\n",
    "dfobserved[\"Business Open\"][\"Stars above 2.5\"]=open_above\n",
    "dfobserved[\"Business Open\"][\"Stars below 2.5\"]=open_below\n",
    "dfobserved[\"Business Closed\"][\"Stars above 2.5\"]=closed_above\n",
    "dfobserved[\"Business Closed\"][\"Stars below 2.5\"]=closed_below\n",
    "\n",
    "\n",
    "#totals\n",
    "\n",
    "\n",
    "dfobserved[\"Business Open\"][\"Total Operating\"]=dfobserved[['Business Open']].dropna().sum()[0]\n",
    "dfobserved[\"Business Closed\"][\"Total Operating\"]=dfobserved[['Business Closed']].dropna().sum()[0]\n",
    "dfobserved[\"Total Stars\"][\"Stars above 2.5\"]=dfobserved.loc[[\"Stars above 2.5\"]].T.dropna().sum()[0]\n",
    "dfobserved[\"Total Stars\"][\"Stars below 2.5\"]=dfobserved.loc[[\"Stars below 2.5\"]].T.dropna().sum()[0]\n",
    "\n",
    "dfobserved[\"Total Stars\"][\"Total Operating\"]=dfobserved[[\"Total Stars\"]].dropna().sum()[0]\n",
    "\n",
    "\n"
   ],
   "metadata": {
    "collapsed": false,
    "pycharm": {
     "name": "#%%\n"
    }
   }
  },
  {
   "cell_type": "code",
   "execution_count": 135,
   "outputs": [
    {
     "name": "stdout",
     "output_type": "stream",
     "text": [
      "Conclusions:\t The p value is 2.605% for a 95% confidence level, this is too low since it is below 5%\n",
      " We reject the null hypothesis. A business's open/closed status and stars on yelp are not independent.\n"
     ]
    }
   ],
   "source": [
    "import scipy.stats\n",
    "\n",
    "dfNoTot=dfobserved.loc[[\"Stars above 2.5\",\"Stars below 2.5\"],['Business Open','Business Closed']]\n",
    "\n",
    "contingency=pd.crosstab(bin_stars,is_open)\n",
    "contingency.index=[\"Stars below 2.5\",\"Stars above 2.5\"]\n",
    "contingency.columns=[\"Business Closed\",\"Business Open\"]\n",
    "\n",
    "##contingecy and dfnoTot should be the same with some column//row swapping\n",
    "\n",
    "chistat, pval, dof, expected = scipy.stats.chi2_contingency(contingency)\n",
    "\n",
    "\n",
    "#TODO\n",
    "\n",
    "conclusions = \"The p value is %.3f%% for a 95%% confidence level, this is too low since it is below 5%%\\n We reject the null hypothesis. A business's open/closed status and stars on yelp are not independent.\"%(pval*100)\n",
    "print('Conclusions:\\t', conclusions)"
   ],
   "metadata": {
    "collapsed": false,
    "pycharm": {
     "name": "#%%\n"
    }
   }
  },
  {
   "cell_type": "markdown",
   "metadata": {},
   "source": [
    "## Q2. Correlation coefficients"
   ]
  },
  {
   "cell_type": "code",
   "execution_count": 73,
   "metadata": {},
   "outputs": [],
   "source": [
    "#TODO pearson coefficient\n"
   ]
  },
  {
   "cell_type": "code",
   "execution_count": 74,
   "outputs": [],
   "source": [
    "#TODO spearman coefficient\n"
   ],
   "metadata": {
    "collapsed": false,
    "pycharm": {
     "name": "#%%\n"
    }
   }
  },
  {
   "cell_type": "code",
   "execution_count": 75,
   "outputs": [
    {
     "name": "stdout",
     "output_type": "stream",
     "text": [
      "Conclusions:\t your conclusions\n"
     ]
    }
   ],
   "source": [
    "#TODO\n",
    "conclusions = 'your conclusions'\n",
    "print('Conclusions:\\t', conclusions)"
   ],
   "metadata": {
    "collapsed": false,
    "pycharm": {
     "name": "#%%\n"
    }
   }
  },
  {
   "cell_type": "markdown",
   "source": [
    "## Q3. Association rule"
   ],
   "metadata": {
    "collapsed": false
   }
  },
  {
   "cell_type": "code",
   "execution_count": 76,
   "outputs": [],
   "source": [
    "import re\n",
    "df_AZ = dfBus[dfBus[\"state\"]==\"AZ\"]\n",
    "raw_categories = df_AZ.loc[:,'categories']\n",
    "\n",
    "cats = []\n",
    "for cat in raw_categories:\n",
    "    cats.append(cat)\n",
    "\n",
    "\n",
    "#TODO\n"
   ],
   "metadata": {
    "collapsed": false,
    "pycharm": {
     "name": "#%%\n"
    }
   }
  },
  {
   "cell_type": "code",
   "execution_count": 77,
   "outputs": [
    {
     "data": {
      "text/plain": "[RelationRecord(items=frozenset({'Active', 'Fitness'}), support=0.032591791196159306, ordered_statistics=[OrderedStatistic(items_base=frozenset({'Fitness'}), items_add=frozenset({'Active'}), confidence=0.9843430905377808, lift=16.986522714076127)]),\n RelationRecord(items=frozenset({'Active', 'Instruction'}), support=0.03256925192147317, ordered_statistics=[OrderedStatistic(items_base=frozenset({'Instruction'}), items_add=frozenset({'Active'}), confidence=0.9958649207443143, lift=17.18535159030066)]),\n RelationRecord(items=frozenset({'Active', 'Life'}), support=0.05794847521806748, ordered_statistics=[OrderedStatistic(items_base=frozenset({'Active'}), items_add=frozenset({'Life'}), confidence=1.0, lift=16.487179487179485), OrderedStatistic(items_base=frozenset({'Life'}), items_add=frozenset({'Active'}), confidence=0.955406911928651, lift=16.487179487179485)]),\n RelationRecord(items=frozenset({'Restaurants', 'American'}), support=0.05578470484819798, ordered_statistics=[OrderedStatistic(items_base=frozenset({'American'}), items_add=frozenset({'Restaurants'}), confidence=1.0, lift=4.517564402810304)]),\n RelationRecord(items=frozenset({'Traditional', 'American'}), support=0.0345301688191674, ordered_statistics=[OrderedStatistic(items_base=frozenset({'Traditional'}), items_add=frozenset({'American'}), confidence=0.9324406573341448, lift=16.714987734926872)]),\n RelationRecord(items=frozenset({'Automotive', 'Auto'}), support=0.057249757702797124, ordered_statistics=[OrderedStatistic(items_base=frozenset({'Auto'}), items_add=frozenset({'Automotive'}), confidence=0.9818322381136452, lift=11.42132955122918)]),\n RelationRecord(items=frozenset({'Auto', 'Repair'}), support=0.04316271102395925, ordered_statistics=[OrderedStatistic(items_base=frozenset({'Auto'}), items_add=frozenset({'Repair'}), confidence=0.7402396598376498, lift=9.027546175925512)]),\n RelationRecord(items=frozenset({'Nightlife', 'Bars'}), support=0.04570964906349314, ordered_statistics=[OrderedStatistic(items_base=frozenset({'Bars'}), items_add=frozenset({'Nightlife'}), confidence=0.7168610816542947, lift=14.122990945717627), OrderedStatistic(items_base=frozenset({'Nightlife'}), items_add=frozenset({'Bars'}), confidence=0.9005328596802843, lift=14.122990945717628)]),\n RelationRecord(items=frozenset({'Bars', 'Restaurants'}), support=0.048369283476457726, ordered_statistics=[OrderedStatistic(items_base=frozenset({'Bars'}), items_add=frozenset({'Restaurants'}), confidence=0.7585719335454223, lift=3.4268975639557833)]),\n RelationRecord(items=frozenset({'Beauty', 'Hair'}), support=0.06371852953771948, ordered_statistics=[OrderedStatistic(items_base=frozenset({'Hair'}), items_add=frozenset({'Beauty'}), confidence=1.0, lift=8.232881796251624)]),\n RelationRecord(items=frozenset({'Removal', 'Beauty'}), support=0.03006739243131156, ordered_statistics=[OrderedStatistic(items_base=frozenset({'Removal'}), items_add=frozenset({'Beauty'}), confidence=0.9093387866394003, lift=7.486478743149058)]),\n RelationRecord(items=frozenset({'Beauty', 'Salons'}), support=0.06168999481596682, ordered_statistics=[OrderedStatistic(items_base=frozenset({'Salons'}), items_add=frozenset({'Beauty'}), confidence=1.0, lift=8.232881796251624)]),\n RelationRecord(items=frozenset({'Beauty', 'Spas'}), support=0.1214641512836117, ordered_statistics=[OrderedStatistic(items_base=frozenset({'Beauty'}), items_add=frozenset({'Spas'}), confidence=1.0, lift=8.232881796251624), OrderedStatistic(items_base=frozenset({'Spas'}), items_add=frozenset({'Beauty'}), confidence=1.0, lift=8.232881796251624)]),\n RelationRecord(items=frozenset({'Brunch', 'Breakfast'}), support=0.03036040300223139, ordered_statistics=[OrderedStatistic(items_base=frozenset({'Breakfast'}), items_add=frozenset({'Brunch'}), confidence=0.9882611885546588, lift=32.5509904622157), OrderedStatistic(items_base=frozenset({'Brunch'}), items_add=frozenset({'Breakfast'}), confidence=1.0, lift=32.5509904622157)]),\n RelationRecord(items=frozenset({'Breakfast', 'Restaurants'}), support=0.03042802082628981, ordered_statistics=[OrderedStatistic(items_base=frozenset({'Breakfast'}), items_add=frozenset({'Restaurants'}), confidence=0.9904622157006603, lift=4.474476847977924)]),\n RelationRecord(items=frozenset({'Brunch', 'Restaurants'}), support=0.03036040300223139, ordered_statistics=[OrderedStatistic(items_base=frozenset({'Brunch'}), items_add=frozenset({'Restaurants'}), confidence=1.0, lift=4.517564402810304)]),\n RelationRecord(items=frozenset({'Food', 'Coffee'}), support=0.03340320508486037, ordered_statistics=[OrderedStatistic(items_base=frozenset({'Coffee'}), items_add=frozenset({'Food'}), confidence=1.0, lift=6.283387622149837)]),\n RelationRecord(items=frozenset({'Tea', 'Coffee'}), support=0.03338066581017423, ordered_statistics=[OrderedStatistic(items_base=frozenset({'Coffee'}), items_add=frozenset({'Tea'}), confidence=0.9993252361673416, lift=28.88407996940485), OrderedStatistic(items_base=frozenset({'Tea'}), items_add=frozenset({'Coffee'}), confidence=0.9648208469055376, lift=28.88407996940485)]),\n RelationRecord(items=frozenset({'Home', 'Contractors'}), support=0.032884801767079135, ordered_statistics=[OrderedStatistic(items_base=frozenset({'Contractors'}), items_add=frozenset({'Home'}), confidence=1.0, lift=4.76603287141476)]),\n RelationRecord(items=frozenset({'Services', 'Contractors'}), support=0.032884801767079135, ordered_statistics=[OrderedStatistic(items_base=frozenset({'Contractors'}), items_add=frozenset({'Services'}), confidence=1.0, lift=2.813201445691459)]),\n RelationRecord(items=frozenset({'Health', 'Dentists'}), support=0.032884801767079135, ordered_statistics=[OrderedStatistic(items_base=frozenset({'Dentists'}), items_add=frozenset({'Health'}), confidence=1.0, lift=6.533205713444264)]),\n RelationRecord(items=frozenset({'Medical', 'Dentists'}), support=0.032884801767079135, ordered_statistics=[OrderedStatistic(items_base=frozenset({'Dentists'}), items_add=frozenset({'Medical'}), confidence=1.0, lift=6.706015719467957)]),\n RelationRecord(items=frozenset({'Health', 'Doctors'}), support=0.05429711271891271, ordered_statistics=[OrderedStatistic(items_base=frozenset({'Doctors'}), items_add=frozenset({'Health'}), confidence=1.0, lift=6.533205713444264)]),\n RelationRecord(items=frozenset({'Doctors', 'Medical'}), support=0.05429711271891271, ordered_statistics=[OrderedStatistic(items_base=frozenset({'Doctors'}), items_add=frozenset({'Medical'}), confidence=1.0, lift=6.706015719467957)]),\n RelationRecord(items=frozenset({'Home', 'Estate'}), support=0.04510108864696734, ordered_statistics=[OrderedStatistic(items_base=frozenset({'Estate'}), items_add=frozenset({'Home'}), confidence=0.9804017638412542, lift=4.672627033660428)]),\n RelationRecord(items=frozenset({'Estate', 'Real'}), support=0.04539409921788717, ordered_statistics=[OrderedStatistic(items_base=frozenset({'Estate'}), items_add=frozenset({'Real'}), confidence=0.9867711905928466, lift=21.737873591376776), OrderedStatistic(items_base=frozenset({'Real'}), items_add=frozenset({'Estate'}), confidence=1.0, lift=21.737873591376776)]),\n RelationRecord(items=frozenset({'Estate', 'Services'}), support=0.04600265963441297, ordered_statistics=[OrderedStatistic(items_base=frozenset({'Estate'}), items_add=frozenset({'Services'}), confidence=1.0, lift=2.813201445691459)]),\n RelationRecord(items=frozenset({'Planning', 'Event'}), support=0.0532377668086641, ordered_statistics=[OrderedStatistic(items_base=frozenset({'Event'}), items_add=frozenset({'Planning'}), confidence=1.0, lift=18.440149625935163), OrderedStatistic(items_base=frozenset({'Planning'}), items_add=frozenset({'Event'}), confidence=0.9817123857024107, lift=18.440149625935163)]),\n RelationRecord(items=frozenset({'Services', 'Event'}), support=0.0532377668086641, ordered_statistics=[OrderedStatistic(items_base=frozenset({'Event'}), items_add=frozenset({'Services'}), confidence=1.0, lift=2.813201445691459)]),\n RelationRecord(items=frozenset({'Fashion', 'Shopping'}), support=0.03759551017648252, ordered_statistics=[OrderedStatistic(items_base=frozenset({'Fashion'}), items_add=frozenset({'Shopping'}), confidence=1.0, lift=5.177616991480919)]),\n RelationRecord(items=frozenset({'Food', 'Fast'}), support=0.04095386210471747, ordered_statistics=[OrderedStatistic(items_base=frozenset({'Fast'}), items_add=frozenset({'Food'}), confidence=1.0, lift=6.283387622149837)]),\n RelationRecord(items=frozenset({'Restaurants', 'Fast'}), support=0.04095386210471747, ordered_statistics=[OrderedStatistic(items_base=frozenset({'Fast'}), items_add=frozenset({'Restaurants'}), confidence=1.0, lift=4.517564402810304)]),\n RelationRecord(items=frozenset({'Fitness', 'Instruction'}), support=0.03256925192147317, ordered_statistics=[OrderedStatistic(items_base=frozenset({'Fitness'}), items_add=frozenset({'Instruction'}), confidence=0.9836623553437714, lift=30.07728995143839), OrderedStatistic(items_base=frozenset({'Instruction'}), items_add=frozenset({'Fitness'}), confidence=0.9958649207443143, lift=30.07728995143839)]),\n RelationRecord(items=frozenset({'Fitness', 'Life'}), support=0.032591791196159306, ordered_statistics=[OrderedStatistic(items_base=frozenset({'Fitness'}), items_add=frozenset({'Life'}), confidence=0.9843430905377808, lift=16.22904121066136)]),\n RelationRecord(items=frozenset({'Tea', 'Food'}), support=0.03459778664322582, ordered_statistics=[OrderedStatistic(items_base=frozenset({'Tea'}), items_add=frozenset({'Food'}), confidence=1.0, lift=6.283387622149837)]),\n RelationRecord(items=frozenset({'Home', 'Garden'}), support=0.0532377668086641, ordered_statistics=[OrderedStatistic(items_base=frozenset({'Garden'}), items_add=frozenset({'Home'}), confidence=0.9995768091409226, lift=4.764015929869514)]),\n RelationRecord(items=frozenset({'Shopping', 'Garden'}), support=0.0532377668086641, ordered_statistics=[OrderedStatistic(items_base=frozenset({'Garden'}), items_add=frozenset({'Shopping'}), confidence=0.9995768091409226, lift=5.175425871298321)]),\n RelationRecord(items=frozenset({'Salons', 'Hair'}), support=0.04956386503482318, ordered_statistics=[OrderedStatistic(items_base=frozenset({'Hair'}), items_add=frozenset({'Salons'}), confidence=0.7778563848602759, lift=12.609117364667833), OrderedStatistic(items_base=frozenset({'Salons'}), items_add=frozenset({'Hair'}), confidence=0.803434417245159, lift=12.609117364667835)]),\n RelationRecord(items=frozenset({'Hair', 'Spas'}), support=0.06371852953771948, ordered_statistics=[OrderedStatistic(items_base=frozenset({'Hair'}), items_add=frozenset({'Spas'}), confidence=1.0, lift=8.232881796251624)]),\n RelationRecord(items=frozenset({'Health', 'Medical'}), support=0.14860143800572498, ordered_statistics=[OrderedStatistic(items_base=frozenset({'Health'}), items_add=frozenset({'Medical'}), confidence=0.9708437638050361, lift=6.510493541224009), OrderedStatistic(items_base=frozenset({'Medical'}), items_add=frozenset({'Health'}), confidence=0.9965235792019348, lift=6.510493541224008)]),\n RelationRecord(items=frozenset({'Home', 'Real'}), support=0.04510108864696734, ordered_statistics=[OrderedStatistic(items_base=frozenset({'Real'}), items_add=frozenset({'Home'}), confidence=0.993545183714002, lift=4.73526900481675)]),\n RelationRecord(items=frozenset({'Home', 'Services'}), support=0.18678296932404714, ordered_statistics=[OrderedStatistic(items_base=frozenset({'Home'}), items_add=frozenset({'Services'}), confidence=0.8902137716188634, lift=2.504350669292633)]),\n RelationRecord(items=frozenset({'Life', 'Instruction'}), support=0.03256925192147317, ordered_statistics=[OrderedStatistic(items_base=frozenset({'Instruction'}), items_add=frozenset({'Life'}), confidence=0.9958649207443143, lift=16.419003693297284)]),\n RelationRecord(items=frozenset({'Services', 'Local'}), support=0.11289922690287826, ordered_statistics=[OrderedStatistic(items_base=frozenset({'Local'}), items_add=frozenset({'Services'}), confidence=0.969233746130031, lift=2.7266497758259516)]),\n RelationRecord(items=frozenset({'Mexican', 'Restaurants'}), support=0.0366939391890369, ordered_statistics=[OrderedStatistic(items_base=frozenset({'Mexican'}), items_add=frozenset({'Restaurants'}), confidence=1.0, lift=4.517564402810304)]),\n RelationRecord(items=frozenset({'Nightlife', 'Restaurants'}), support=0.0374151959789934, ordered_statistics=[OrderedStatistic(items_base=frozenset({'Nightlife'}), items_add=frozenset({'Restaurants'}), confidence=0.7371225577264654, lift=3.3299986272935636)]),\n RelationRecord(items=frozenset({'Services', 'Planning'}), support=0.054229494894854284, ordered_statistics=[OrderedStatistic(items_base=frozenset({'Planning'}), items_add=frozenset({'Services'}), confidence=1.0, lift=2.813201445691459)]),\n RelationRecord(items=frozenset({'Services', 'Professional'}), support=0.041517343971870985, ordered_statistics=[OrderedStatistic(items_base=frozenset({'Professional'}), items_add=frozenset({'Services'}), confidence=0.9972929074174336, lift=2.8055858489245624)]),\n RelationRecord(items=frozenset({'Services', 'Real'}), support=0.04539409921788717, ordered_statistics=[OrderedStatistic(items_base=frozenset({'Real'}), items_add=frozenset({'Services'}), confidence=1.0, lift=2.813201445691459)]),\n RelationRecord(items=frozenset({'Removal', 'Spas'}), support=0.03006739243131156, ordered_statistics=[OrderedStatistic(items_base=frozenset({'Removal'}), items_add=frozenset({'Spas'}), confidence=0.9093387866394003, lift=7.486478743149058)]),\n RelationRecord(items=frozenset({'Restaurants', 'Sandwiches'}), support=0.0374151959789934, ordered_statistics=[OrderedStatistic(items_base=frozenset({'Sandwiches'}), items_add=frozenset({'Restaurants'}), confidence=1.0, lift=4.517564402810304)]),\n RelationRecord(items=frozenset({'Traditional', 'Restaurants'}), support=0.03455270809385354, ordered_statistics=[OrderedStatistic(items_base=frozenset({'Traditional'}), items_add=frozenset({'Restaurants'}), confidence=0.9330493000608642, lift=4.21511030402203)]),\n RelationRecord(items=frozenset({'Salons', 'Spas'}), support=0.06168999481596682, ordered_statistics=[OrderedStatistic(items_base=frozenset({'Salons'}), items_add=frozenset({'Spas'}), confidence=1.0, lift=8.232881796251624)]),\n RelationRecord(items=frozenset({'Shopping', 'Stores'}), support=0.053891405774562175, ordered_statistics=[OrderedStatistic(items_base=frozenset({'Stores'}), items_add=frozenset({'Shopping'}), confidence=0.8072248480756246, lift=4.179501089341957)]),\n RelationRecord(items=frozenset({'Active', 'Fitness', 'Instruction'}), support=0.03256925192147317, ordered_statistics=[OrderedStatistic(items_base=frozenset({'Fitness'}), items_add=frozenset({'Active', 'Instruction'}), confidence=0.9836623553437714, lift=30.202178352620834), OrderedStatistic(items_base=frozenset({'Instruction'}), items_add=frozenset({'Active', 'Fitness'}), confidence=0.9958649207443143, lift=30.55569774458022), OrderedStatistic(items_base=frozenset({'Active', 'Fitness'}), items_add=frozenset({'Instruction'}), confidence=0.9993084370677733, lift=30.55569774458022), OrderedStatistic(items_base=frozenset({'Active', 'Instruction'}), items_add=frozenset({'Fitness'}), confidence=1.0, lift=30.202178352620834), OrderedStatistic(items_base=frozenset({'Fitness', 'Instruction'}), items_add=frozenset({'Active'}), confidence=1.0, lift=17.256709451575265)]),\n RelationRecord(items=frozenset({'Active', 'Fitness', 'Life'}), support=0.032591791196159306, ordered_statistics=[OrderedStatistic(items_base=frozenset({'Fitness'}), items_add=frozenset({'Active', 'Life'}), confidence=0.9843430905377808, lift=16.986522714076127), OrderedStatistic(items_base=frozenset({'Active', 'Fitness'}), items_add=frozenset({'Life'}), confidence=1.0, lift=16.487179487179485), OrderedStatistic(items_base=frozenset({'Fitness', 'Life'}), items_add=frozenset({'Active'}), confidence=1.0, lift=17.256709451575265)]),\n RelationRecord(items=frozenset({'Active', 'Life', 'Instruction'}), support=0.03256925192147317, ordered_statistics=[OrderedStatistic(items_base=frozenset({'Instruction'}), items_add=frozenset({'Active', 'Life'}), confidence=0.9958649207443143, lift=17.18535159030066), OrderedStatistic(items_base=frozenset({'Active', 'Instruction'}), items_add=frozenset({'Life'}), confidence=1.0, lift=16.487179487179485), OrderedStatistic(items_base=frozenset({'Life', 'Instruction'}), items_add=frozenset({'Active'}), confidence=1.0, lift=17.256709451575265)]),\n RelationRecord(items=frozenset({'Traditional', 'Restaurants', 'American'}), support=0.0345301688191674, ordered_statistics=[OrderedStatistic(items_base=frozenset({'Traditional'}), items_add=frozenset({'Restaurants', 'American'}), confidence=0.9324406573341448, lift=16.714987734926872), OrderedStatistic(items_base=frozenset({'Traditional', 'American'}), items_add=frozenset({'Restaurants'}), confidence=1.0, lift=4.517564402810304), OrderedStatistic(items_base=frozenset({'Traditional', 'Restaurants'}), items_add=frozenset({'American'}), confidence=0.9993476842791912, lift=17.9143671549151)]),\n RelationRecord(items=frozenset({'Automotive', 'Auto', 'Repair'}), support=0.04316271102395925, ordered_statistics=[OrderedStatistic(items_base=frozenset({'Auto'}), items_add=frozenset({'Automotive', 'Repair'}), confidence=0.7402396598376498, lift=15.676473979960386), OrderedStatistic(items_base=frozenset({'Automotive', 'Auto'}), items_add=frozenset({'Repair'}), confidence=0.7539370078740157, lift=9.19459132170051), OrderedStatistic(items_base=frozenset({'Auto', 'Repair'}), items_add=frozenset({'Automotive'}), confidence=1.0, lift=11.632669113791295), OrderedStatistic(items_base=frozenset({'Automotive', 'Repair'}), items_add=frozenset({'Auto'}), confidence=0.9140811455847256, lift=15.676473979960388)]),\n RelationRecord(items=frozenset({'Nightlife', 'Bars', 'Restaurants'}), support=0.03615299659656952, ordered_statistics=[OrderedStatistic(items_base=frozenset({'Nightlife'}), items_add=frozenset({'Bars', 'Restaurants'}), confidence=0.7122557726465365, lift=14.725373655642537), OrderedStatistic(items_base=frozenset({'Nightlife', 'Bars'}), items_add=frozenset({'Restaurants'}), confidence=0.7909270216962524, lift=3.573063758435763), OrderedStatistic(items_base=frozenset({'Bars', 'Restaurants'}), items_add=frozenset({'Nightlife'}), confidence=0.7474370922646785, lift=14.725373655642535), OrderedStatistic(items_base=frozenset({'Nightlife', 'Restaurants'}), items_add=frozenset({'Bars'}), confidence=0.9662650602409638, lift=15.153864237437553)]),\n RelationRecord(items=frozenset({'Beauty', 'Hair', 'Salons'}), support=0.04956386503482318, ordered_statistics=[OrderedStatistic(items_base=frozenset({'Hair'}), items_add=frozenset({'Beauty', 'Salons'}), confidence=0.7778563848602759, lift=12.609117364667833), OrderedStatistic(items_base=frozenset({'Salons'}), items_add=frozenset({'Beauty', 'Hair'}), confidence=0.803434417245159, lift=12.609117364667835), OrderedStatistic(items_base=frozenset({'Beauty', 'Hair'}), items_add=frozenset({'Salons'}), confidence=0.7778563848602759, lift=12.609117364667833), OrderedStatistic(items_base=frozenset({'Beauty', 'Salons'}), items_add=frozenset({'Hair'}), confidence=0.803434417245159, lift=12.609117364667835), OrderedStatistic(items_base=frozenset({'Salons', 'Hair'}), items_add=frozenset({'Beauty'}), confidence=1.0, lift=8.232881796251624)]),\n RelationRecord(items=frozenset({'Beauty', 'Hair', 'Spas'}), support=0.06371852953771948, ordered_statistics=[OrderedStatistic(items_base=frozenset({'Hair'}), items_add=frozenset({'Beauty', 'Spas'}), confidence=1.0, lift=8.232881796251624), OrderedStatistic(items_base=frozenset({'Beauty', 'Hair'}), items_add=frozenset({'Spas'}), confidence=1.0, lift=8.232881796251624), OrderedStatistic(items_base=frozenset({'Hair', 'Spas'}), items_add=frozenset({'Beauty'}), confidence=1.0, lift=8.232881796251624)]),\n RelationRecord(items=frozenset({'Removal', 'Beauty', 'Spas'}), support=0.03006739243131156, ordered_statistics=[OrderedStatistic(items_base=frozenset({'Removal'}), items_add=frozenset({'Beauty', 'Spas'}), confidence=0.9093387866394003, lift=7.486478743149058), OrderedStatistic(items_base=frozenset({'Removal', 'Beauty'}), items_add=frozenset({'Spas'}), confidence=1.0, lift=8.232881796251624), OrderedStatistic(items_base=frozenset({'Removal', 'Spas'}), items_add=frozenset({'Beauty'}), confidence=1.0, lift=8.232881796251624)]),\n RelationRecord(items=frozenset({'Beauty', 'Spas', 'Salons'}), support=0.06168999481596682, ordered_statistics=[OrderedStatistic(items_base=frozenset({'Salons'}), items_add=frozenset({'Beauty', 'Spas'}), confidence=1.0, lift=8.232881796251624), OrderedStatistic(items_base=frozenset({'Beauty', 'Salons'}), items_add=frozenset({'Spas'}), confidence=1.0, lift=8.232881796251624), OrderedStatistic(items_base=frozenset({'Salons', 'Spas'}), items_add=frozenset({'Beauty'}), confidence=1.0, lift=8.232881796251624)]),\n RelationRecord(items=frozenset({'Brunch', 'Breakfast', 'Restaurants'}), support=0.03036040300223139, ordered_statistics=[OrderedStatistic(items_base=frozenset({'Breakfast'}), items_add=frozenset({'Brunch', 'Restaurants'}), confidence=0.9882611885546588, lift=32.5509904622157), OrderedStatistic(items_base=frozenset({'Brunch'}), items_add=frozenset({'Breakfast', 'Restaurants'}), confidence=1.0, lift=32.864444444444445), OrderedStatistic(items_base=frozenset({'Brunch', 'Breakfast'}), items_add=frozenset({'Restaurants'}), confidence=1.0, lift=4.517564402810304), OrderedStatistic(items_base=frozenset({'Breakfast', 'Restaurants'}), items_add=frozenset({'Brunch'}), confidence=0.9977777777777778, lift=32.864444444444445), OrderedStatistic(items_base=frozenset({'Brunch', 'Restaurants'}), items_add=frozenset({'Breakfast'}), confidence=1.0, lift=32.5509904622157)]),\n RelationRecord(items=frozenset({'Tea', 'Food', 'Coffee'}), support=0.03338066581017423, ordered_statistics=[OrderedStatistic(items_base=frozenset({'Coffee'}), items_add=frozenset({'Tea', 'Food'}), confidence=0.9993252361673416, lift=28.88407996940485), OrderedStatistic(items_base=frozenset({'Tea'}), items_add=frozenset({'Food', 'Coffee'}), confidence=0.9648208469055376, lift=28.88407996940485), OrderedStatistic(items_base=frozenset({'Food', 'Coffee'}), items_add=frozenset({'Tea'}), confidence=0.9993252361673416, lift=28.88407996940485), OrderedStatistic(items_base=frozenset({'Tea', 'Coffee'}), items_add=frozenset({'Food'}), confidence=1.0, lift=6.283387622149837), OrderedStatistic(items_base=frozenset({'Tea', 'Food'}), items_add=frozenset({'Coffee'}), confidence=0.9648208469055376, lift=28.88407996940485)]),\n RelationRecord(items=frozenset({'Home', 'Services', 'Contractors'}), support=0.032884801767079135, ordered_statistics=[OrderedStatistic(items_base=frozenset({'Contractors'}), items_add=frozenset({'Home', 'Services'}), confidence=1.0, lift=5.353807167853264), OrderedStatistic(items_base=frozenset({'Home', 'Contractors'}), items_add=frozenset({'Services'}), confidence=1.0, lift=2.813201445691459), OrderedStatistic(items_base=frozenset({'Services', 'Contractors'}), items_add=frozenset({'Home'}), confidence=1.0, lift=4.76603287141476)]),\n RelationRecord(items=frozenset({'Health', 'Medical', 'Dentists'}), support=0.032884801767079135, ordered_statistics=[OrderedStatistic(items_base=frozenset({'Dentists'}), items_add=frozenset({'Health', 'Medical'}), confidence=1.0, lift=6.729409980282117), OrderedStatistic(items_base=frozenset({'Health', 'Dentists'}), items_add=frozenset({'Medical'}), confidence=1.0, lift=6.706015719467957), OrderedStatistic(items_base=frozenset({'Medical', 'Dentists'}), items_add=frozenset({'Health'}), confidence=1.0, lift=6.533205713444264)]),\n RelationRecord(items=frozenset({'Health', 'Doctors', 'Medical'}), support=0.05429711271891271, ordered_statistics=[OrderedStatistic(items_base=frozenset({'Doctors'}), items_add=frozenset({'Health', 'Medical'}), confidence=1.0, lift=6.729409980282117), OrderedStatistic(items_base=frozenset({'Health', 'Doctors'}), items_add=frozenset({'Medical'}), confidence=1.0, lift=6.706015719467957), OrderedStatistic(items_base=frozenset({'Doctors', 'Medical'}), items_add=frozenset({'Health'}), confidence=1.0, lift=6.533205713444264)]),\n RelationRecord(items=frozenset({'Home', 'Estate', 'Real'}), support=0.04510108864696734, ordered_statistics=[OrderedStatistic(items_base=frozenset({'Estate'}), items_add=frozenset({'Home', 'Real'}), confidence=0.9804017638412542, lift=21.737873591376776), OrderedStatistic(items_base=frozenset({'Real'}), items_add=frozenset({'Home', 'Estate'}), confidence=0.993545183714002, lift=22.02929493545184), OrderedStatistic(items_base=frozenset({'Home', 'Estate'}), items_add=frozenset({'Real'}), confidence=1.0, lift=22.029294935451837), OrderedStatistic(items_base=frozenset({'Estate', 'Real'}), items_add=frozenset({'Home'}), confidence=0.993545183714002, lift=4.73526900481675), OrderedStatistic(items_base=frozenset({'Home', 'Real'}), items_add=frozenset({'Estate'}), confidence=1.0, lift=21.737873591376776)]),\n RelationRecord(items=frozenset({'Home', 'Estate', 'Services'}), support=0.04510108864696734, ordered_statistics=[OrderedStatistic(items_base=frozenset({'Estate'}), items_add=frozenset({'Home', 'Services'}), confidence=0.9804017638412542, lift=5.2488819906292905), OrderedStatistic(items_base=frozenset({'Home', 'Estate'}), items_add=frozenset({'Services'}), confidence=1.0, lift=2.813201445691459), OrderedStatistic(items_base=frozenset({'Estate', 'Services'}), items_add=frozenset({'Home'}), confidence=0.9804017638412542, lift=4.672627033660428)]),\n RelationRecord(items=frozenset({'Services', 'Estate', 'Real'}), support=0.04539409921788717, ordered_statistics=[OrderedStatistic(items_base=frozenset({'Estate'}), items_add=frozenset({'Real', 'Services'}), confidence=0.9867711905928466, lift=21.737873591376776), OrderedStatistic(items_base=frozenset({'Real'}), items_add=frozenset({'Estate', 'Services'}), confidence=1.0, lift=21.737873591376776), OrderedStatistic(items_base=frozenset({'Estate', 'Real'}), items_add=frozenset({'Services'}), confidence=1.0, lift=2.813201445691459), OrderedStatistic(items_base=frozenset({'Estate', 'Services'}), items_add=frozenset({'Real'}), confidence=0.9867711905928466, lift=21.737873591376776), OrderedStatistic(items_base=frozenset({'Services', 'Real'}), items_add=frozenset({'Estate'}), confidence=1.0, lift=21.737873591376776)]),\n RelationRecord(items=frozenset({'Services', 'Planning', 'Event'}), support=0.0532377668086641, ordered_statistics=[OrderedStatistic(items_base=frozenset({'Event'}), items_add=frozenset({'Services', 'Planning'}), confidence=1.0, lift=18.440149625935163), OrderedStatistic(items_base=frozenset({'Planning'}), items_add=frozenset({'Services', 'Event'}), confidence=0.9817123857024107, lift=18.440149625935163), OrderedStatistic(items_base=frozenset({'Planning', 'Event'}), items_add=frozenset({'Services'}), confidence=1.0, lift=2.813201445691459), OrderedStatistic(items_base=frozenset({'Services', 'Event'}), items_add=frozenset({'Planning'}), confidence=1.0, lift=18.440149625935163), OrderedStatistic(items_base=frozenset({'Services', 'Planning'}), items_add=frozenset({'Event'}), confidence=0.9817123857024107, lift=18.440149625935163)]),\n RelationRecord(items=frozenset({'Restaurants', 'Food', 'Fast'}), support=0.04095386210471747, ordered_statistics=[OrderedStatistic(items_base=frozenset({'Fast'}), items_add=frozenset({'Restaurants', 'Food'}), confidence=1.0, lift=10.325110542238772), OrderedStatistic(items_base=frozenset({'Food', 'Fast'}), items_add=frozenset({'Restaurants'}), confidence=1.0, lift=4.517564402810304), OrderedStatistic(items_base=frozenset({'Restaurants', 'Fast'}), items_add=frozenset({'Food'}), confidence=1.0, lift=6.283387622149837)]),\n RelationRecord(items=frozenset({'Fitness', 'Life', 'Instruction'}), support=0.03256925192147317, ordered_statistics=[OrderedStatistic(items_base=frozenset({'Fitness'}), items_add=frozenset({'Life', 'Instruction'}), confidence=0.9836623553437714, lift=30.202178352620834), OrderedStatistic(items_base=frozenset({'Instruction'}), items_add=frozenset({'Fitness', 'Life'}), confidence=0.9958649207443143, lift=30.55569774458022), OrderedStatistic(items_base=frozenset({'Fitness', 'Instruction'}), items_add=frozenset({'Life'}), confidence=1.0, lift=16.487179487179485), OrderedStatistic(items_base=frozenset({'Fitness', 'Life'}), items_add=frozenset({'Instruction'}), confidence=0.9993084370677733, lift=30.55569774458022), OrderedStatistic(items_base=frozenset({'Life', 'Instruction'}), items_add=frozenset({'Fitness'}), confidence=1.0, lift=30.202178352620834)]),\n RelationRecord(items=frozenset({'Home', 'Services', 'Garden'}), support=0.032163544977122635, ordered_statistics=[OrderedStatistic(items_base=frozenset({'Services', 'Garden'}), items_add=frozenset({'Home'}), confidence=1.0, lift=4.76603287141476)]),\n RelationRecord(items=frozenset({'Home', 'Shopping', 'Garden'}), support=0.0532377668086641, ordered_statistics=[OrderedStatistic(items_base=frozenset({'Garden'}), items_add=frozenset({'Home', 'Shopping'}), confidence=0.9995768091409226, lift=16.13836400697064), OrderedStatistic(items_base=frozenset({'Home', 'Garden'}), items_add=frozenset({'Shopping'}), confidence=1.0, lift=5.177616991480919), OrderedStatistic(items_base=frozenset({'Shopping', 'Garden'}), items_add=frozenset({'Home'}), confidence=1.0, lift=4.76603287141476), OrderedStatistic(items_base=frozenset({'Home', 'Shopping'}), items_add=frozenset({'Garden'}), confidence=0.8595342066957788, lift=16.13836400697064)]),\n RelationRecord(items=frozenset({'Services', 'Shopping', 'Garden'}), support=0.032163544977122635, ordered_statistics=[OrderedStatistic(items_base=frozenset({'Services', 'Garden'}), items_add=frozenset({'Shopping'}), confidence=1.0, lift=5.177616991480919)]),\n RelationRecord(items=frozenset({'Salons', 'Hair', 'Spas'}), support=0.04956386503482318, ordered_statistics=[OrderedStatistic(items_base=frozenset({'Hair'}), items_add=frozenset({'Salons', 'Spas'}), confidence=0.7778563848602759, lift=12.609117364667833), OrderedStatistic(items_base=frozenset({'Salons'}), items_add=frozenset({'Hair', 'Spas'}), confidence=0.803434417245159, lift=12.609117364667835), OrderedStatistic(items_base=frozenset({'Salons', 'Hair'}), items_add=frozenset({'Spas'}), confidence=1.0, lift=8.232881796251624), OrderedStatistic(items_base=frozenset({'Hair', 'Spas'}), items_add=frozenset({'Salons'}), confidence=0.7778563848602759, lift=12.609117364667833), OrderedStatistic(items_base=frozenset({'Salons', 'Spas'}), items_add=frozenset({'Hair'}), confidence=0.803434417245159, lift=12.609117364667835)]),\n RelationRecord(items=frozenset({'Home', 'Services', 'Local'}), support=0.04239637568463047, ordered_statistics=[OrderedStatistic(items_base=frozenset({'Home', 'Local'}), items_add=frozenset({'Services'}), confidence=0.9973488865323437, lift=2.805743329451556)]),\n RelationRecord(items=frozenset({'Home', 'Services', 'Real'}), support=0.04510108864696734, ordered_statistics=[OrderedStatistic(items_base=frozenset({'Real'}), items_add=frozenset({'Home', 'Services'}), confidence=0.993545183714002, lift=5.319249326154113), OrderedStatistic(items_base=frozenset({'Home', 'Real'}), items_add=frozenset({'Services'}), confidence=1.0, lift=2.813201445691459), OrderedStatistic(items_base=frozenset({'Services', 'Real'}), items_add=frozenset({'Home'}), confidence=0.993545183714002, lift=4.73526900481675)]),\n RelationRecord(items=frozenset({'Services', 'Local', 'Repair'}), support=0.03196069150494737, ordered_statistics=[OrderedStatistic(items_base=frozenset({'Local', 'Repair'}), items_add=frozenset({'Services'}), confidence=1.0, lift=2.813201445691459), OrderedStatistic(items_base=frozenset({'Services', 'Repair'}), items_add=frozenset({'Local'}), confidence=0.7194317605276509, lift=6.176282685628926)]),\n RelationRecord(items=frozenset({'Services', 'Shopping', 'Local'}), support=0.03718980323213199, ordered_statistics=[OrderedStatistic(items_base=frozenset({'Shopping', 'Local'}), items_add=frozenset({'Services'}), confidence=0.978067575577949, lift=2.7515011175998265)]),\n RelationRecord(items=frozenset({'Active', 'Fitness', 'Life', 'Instruction'}), support=0.03256925192147317, ordered_statistics=[OrderedStatistic(items_base=frozenset({'Fitness'}), items_add=frozenset({'Active', 'Life', 'Instruction'}), confidence=0.9836623553437714, lift=30.202178352620834), OrderedStatistic(items_base=frozenset({'Instruction'}), items_add=frozenset({'Active', 'Fitness', 'Life'}), confidence=0.9958649207443143, lift=30.55569774458022), OrderedStatistic(items_base=frozenset({'Active', 'Fitness'}), items_add=frozenset({'Life', 'Instruction'}), confidence=0.9993084370677733, lift=30.682572614107887), OrderedStatistic(items_base=frozenset({'Active', 'Instruction'}), items_add=frozenset({'Fitness', 'Life'}), confidence=1.0, lift=30.682572614107887), OrderedStatistic(items_base=frozenset({'Fitness', 'Instruction'}), items_add=frozenset({'Active', 'Life'}), confidence=1.0, lift=17.256709451575265), OrderedStatistic(items_base=frozenset({'Fitness', 'Life'}), items_add=frozenset({'Active', 'Instruction'}), confidence=0.9993084370677733, lift=30.682572614107887), OrderedStatistic(items_base=frozenset({'Life', 'Instruction'}), items_add=frozenset({'Active', 'Fitness'}), confidence=1.0, lift=30.682572614107887), OrderedStatistic(items_base=frozenset({'Active', 'Fitness', 'Instruction'}), items_add=frozenset({'Life'}), confidence=1.0, lift=16.487179487179485), OrderedStatistic(items_base=frozenset({'Active', 'Fitness', 'Life'}), items_add=frozenset({'Instruction'}), confidence=0.9993084370677733, lift=30.55569774458022), OrderedStatistic(items_base=frozenset({'Active', 'Life', 'Instruction'}), items_add=frozenset({'Fitness'}), confidence=1.0, lift=30.202178352620834), OrderedStatistic(items_base=frozenset({'Fitness', 'Life', 'Instruction'}), items_add=frozenset({'Active'}), confidence=1.0, lift=17.256709451575265)]),\n RelationRecord(items=frozenset({'Beauty', 'Hair', 'Salons', 'Spas'}), support=0.04956386503482318, ordered_statistics=[OrderedStatistic(items_base=frozenset({'Hair'}), items_add=frozenset({'Beauty', 'Spas', 'Salons'}), confidence=0.7778563848602759, lift=12.609117364667833), OrderedStatistic(items_base=frozenset({'Salons'}), items_add=frozenset({'Beauty', 'Hair', 'Spas'}), confidence=0.803434417245159, lift=12.609117364667835), OrderedStatistic(items_base=frozenset({'Beauty', 'Hair'}), items_add=frozenset({'Salons', 'Spas'}), confidence=0.7778563848602759, lift=12.609117364667833), OrderedStatistic(items_base=frozenset({'Beauty', 'Salons'}), items_add=frozenset({'Hair', 'Spas'}), confidence=0.803434417245159, lift=12.609117364667835), OrderedStatistic(items_base=frozenset({'Salons', 'Hair'}), items_add=frozenset({'Beauty', 'Spas'}), confidence=1.0, lift=8.232881796251624), OrderedStatistic(items_base=frozenset({'Hair', 'Spas'}), items_add=frozenset({'Beauty', 'Salons'}), confidence=0.7778563848602759, lift=12.609117364667833), OrderedStatistic(items_base=frozenset({'Salons', 'Spas'}), items_add=frozenset({'Beauty', 'Hair'}), confidence=0.803434417245159, lift=12.609117364667835), OrderedStatistic(items_base=frozenset({'Beauty', 'Hair', 'Salons'}), items_add=frozenset({'Spas'}), confidence=1.0, lift=8.232881796251624), OrderedStatistic(items_base=frozenset({'Beauty', 'Hair', 'Spas'}), items_add=frozenset({'Salons'}), confidence=0.7778563848602759, lift=12.609117364667833), OrderedStatistic(items_base=frozenset({'Beauty', 'Spas', 'Salons'}), items_add=frozenset({'Hair'}), confidence=0.803434417245159, lift=12.609117364667835), OrderedStatistic(items_base=frozenset({'Salons', 'Hair', 'Spas'}), items_add=frozenset({'Beauty'}), confidence=1.0, lift=8.232881796251624)]),\n RelationRecord(items=frozenset({'Home', 'Services', 'Estate', 'Real'}), support=0.04510108864696734, ordered_statistics=[OrderedStatistic(items_base=frozenset({'Estate'}), items_add=frozenset({'Home', 'Real', 'Services'}), confidence=0.9804017638412542, lift=21.737873591376776), OrderedStatistic(items_base=frozenset({'Real'}), items_add=frozenset({'Home', 'Estate', 'Services'}), confidence=0.993545183714002, lift=22.02929493545184), OrderedStatistic(items_base=frozenset({'Home', 'Estate'}), items_add=frozenset({'Real', 'Services'}), confidence=1.0, lift=22.029294935451837), OrderedStatistic(items_base=frozenset({'Estate', 'Real'}), items_add=frozenset({'Home', 'Services'}), confidence=0.993545183714002, lift=5.319249326154113), OrderedStatistic(items_base=frozenset({'Estate', 'Services'}), items_add=frozenset({'Home', 'Real'}), confidence=0.9804017638412542, lift=21.737873591376776), OrderedStatistic(items_base=frozenset({'Home', 'Real'}), items_add=frozenset({'Estate', 'Services'}), confidence=1.0, lift=21.737873591376776), OrderedStatistic(items_base=frozenset({'Services', 'Real'}), items_add=frozenset({'Home', 'Estate'}), confidence=0.993545183714002, lift=22.02929493545184), OrderedStatistic(items_base=frozenset({'Home', 'Estate', 'Real'}), items_add=frozenset({'Services'}), confidence=1.0, lift=2.813201445691459), OrderedStatistic(items_base=frozenset({'Home', 'Estate', 'Services'}), items_add=frozenset({'Real'}), confidence=1.0, lift=22.029294935451837), OrderedStatistic(items_base=frozenset({'Services', 'Estate', 'Real'}), items_add=frozenset({'Home'}), confidence=0.993545183714002, lift=4.73526900481675), OrderedStatistic(items_base=frozenset({'Home', 'Services', 'Real'}), items_add=frozenset({'Estate'}), confidence=1.0, lift=21.737873591376776)]),\n RelationRecord(items=frozenset({'Home', 'Services', 'Shopping', 'Garden'}), support=0.032163544977122635, ordered_statistics=[OrderedStatistic(items_base=frozenset({'Services', 'Garden'}), items_add=frozenset({'Home', 'Shopping'}), confidence=1.0, lift=16.145196506550217), OrderedStatistic(items_base=frozenset({'Home', 'Services', 'Garden'}), items_add=frozenset({'Shopping'}), confidence=1.0, lift=5.177616991480919), OrderedStatistic(items_base=frozenset({'Services', 'Shopping', 'Garden'}), items_add=frozenset({'Home'}), confidence=1.0, lift=4.76603287141476), OrderedStatistic(items_base=frozenset({'Home', 'Services', 'Shopping'}), items_add=frozenset({'Garden'}), confidence=0.794543429844098, lift=14.918116103213329)])]"
     },
     "execution_count": 77,
     "metadata": {},
     "output_type": "execute_result"
    }
   ],
   "source": [
    "from apyori import apriori\n",
    "nested = []\n",
    "\n",
    "for desc in cats:\n",
    "    sub = []\n",
    "    key_words = re.findall('[a-zA-Z]+', desc)\n",
    "    for word in key_words:\n",
    "        sub.append(word)\n",
    "    nested.append(sub)\n",
    "\n",
    "rules = apriori(nested, min_support=0.03, min_confidence=0.7,min_lift=1,min_length=2)\n",
    "list(rules)"
   ],
   "metadata": {
    "collapsed": false,
    "pycharm": {
     "name": "#%%\n"
    }
   }
  },
  {
   "cell_type": "code",
   "execution_count": 78,
   "outputs": [
    {
     "name": "stdout",
     "output_type": "stream",
     "text": [
      "Conclusions:\t your conclusions\n"
     ]
    }
   ],
   "source": [
    "#TODO\n",
    "conclusions = 'your conclusions'\n",
    "print('Conclusions:\\t', conclusions)"
   ],
   "metadata": {
    "collapsed": false,
    "pycharm": {
     "name": "#%%\n"
    }
   }
  },
  {
   "cell_type": "markdown",
   "source": [
    "## Q4. Power law distribution"
   ],
   "metadata": {
    "collapsed": false
   }
  },
  {
   "cell_type": "code",
   "execution_count": 79,
   "outputs": [],
   "source": [
    "#TODO ccdf\n"
   ],
   "metadata": {
    "collapsed": false,
    "pycharm": {
     "name": "#%%\n"
    }
   }
  },
  {
   "cell_type": "code",
   "execution_count": 80,
   "outputs": [],
   "source": [
    "#TODO powerlaw\n"
   ],
   "metadata": {
    "collapsed": false,
    "pycharm": {
     "name": "#%%\n"
    }
   }
  },
  {
   "cell_type": "code",
   "execution_count": 81,
   "outputs": [
    {
     "name": "stdout",
     "output_type": "stream",
     "text": [
      "Conclusions:\t your conclusions\n"
     ]
    }
   ],
   "source": [
    "#TODO\n",
    "conclusions = 'your conclusions'\n",
    "print('Conclusions:\\t', conclusions)\n"
   ],
   "metadata": {
    "collapsed": false,
    "pycharm": {
     "name": "#%%\n"
    }
   }
  }
 ],
 "metadata": {
  "kernelspec": {
   "display_name": "Python 3",
   "language": "python",
   "name": "python3"
  },
  "language_info": {
   "codemirror_mode": {
    "name": "ipython",
    "version": 3
   },
   "file_extension": ".py",
   "mimetype": "text/x-python",
   "name": "python",
   "nbconvert_exporter": "python",
   "pygments_lexer": "ipython3",
   "version": "3.8.5"
  }
 },
 "nbformat": 4,
 "nbformat_minor": 4
}