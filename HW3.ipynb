{
 "cells": [
  {
   "cell_type": "markdown",
   "metadata": {},
   "source": [
    "## Q1. Chi Square Test"
   ]
  },
  {
   "cell_type": "code",
   "execution_count": 36,
   "metadata": {},
   "outputs": [],
   "source": [
    "#TODO\n",
    "\n",
    "\n",
    "import pandas as pd\n",
    "import json\n",
    "import numpy as np\n",
    "\n",
    "business_path = \"/Users/Andy/Desktop/yelp_academic_dataset_business.json\"\n",
    "business_doc=open(business_path, encoding=\"utf8\").readlines()\n",
    "\n",
    "busList = []\n",
    "for bus in business_doc:\n",
    "    busList.append(json.loads(bus))\n",
    "\n",
    "dfBus = pd.DataFrame.from_records(busList)\n",
    "dfBus = dfBus.dropna()\n",
    "from pandas.io.json import json_normalize"
   ]
  },
  {
   "cell_type": "code",
   "execution_count": 59,
   "metadata": {},
   "outputs": [
    {
     "name": "stdout",
     "output_type": "stream",
     "text": [
      "Conclusions:\t your conclusions\n"
     ]
    }
   ],
   "source": [
    "open_df = dfBus.loc[:,'is_open']\n",
    "estrella_df = dfBus.loc[:,'stars']\n",
    "\n",
    "stars = estrella_df.values\n",
    "\n",
    "bin_stars = [1 if (star > 2.5) else 0 for star in stars]\n",
    "\n",
    "bin_stars = np.array(bin_stars) #1 for above 2.5 stars 0 for 2.5 and below\n",
    "\n",
    "is_open = open_df.values #1 for open 0 for closed\n",
    "\n",
    "\n",
    "##########################################################################\n",
    "##########Data gathered, lets make observed & expected dataframes#########\n",
    "##########################################################################\n",
    "\n",
    "dfobserved =  pd.DataFrame(columns = ['Business Open' , 'Business Closed', 'Total Stars'], index=['Stars above 2.5', 'Stars below 2.5', 'Total Operating'])\n",
    "\n",
    "\n",
    "\n",
    "#TODO\n",
    "conclusions = 'your conclusions'\n",
    "print('Conclusions:\\t', conclusions)"
   ]
  },
  {
   "cell_type": "markdown",
   "metadata": {},
   "source": [
    "## Q2. Correlation coefficients"
   ]
  },
  {
   "cell_type": "code",
   "execution_count": 13,
   "metadata": {},
   "outputs": [],
   "source": [
    "#TODO pearson coefficient\n"
   ]
  },
  {
   "cell_type": "code",
   "execution_count": 14,
   "metadata": {},
   "outputs": [],
   "source": [
    "#TODO spearman coefficient\n"
   ]
  },
  {
   "cell_type": "code",
   "execution_count": 15,
   "metadata": {},
   "outputs": [
    {
     "name": "stdout",
     "output_type": "stream",
     "text": [
      "Conclusions:\t your conclusions\n"
     ]
    }
   ],
   "source": [
    "#TODO\n",
    "conclusions = 'your conclusions'\n",
    "print('Conclusions:\\t', conclusions)"
   ]
  },
  {
   "cell_type": "markdown",
   "metadata": {},
   "source": [
    "## Q3. Association rule"
   ]
  },
  {
   "cell_type": "code",
   "execution_count": 16,
   "metadata": {},
   "outputs": [],
   "source": [
    "#TODO\n"
   ]
  },
  {
   "cell_type": "code",
   "execution_count": 17,
   "metadata": {},
   "outputs": [
    {
     "name": "stdout",
     "output_type": "stream",
     "text": [
      "Conclusions:\t your conclusions\n"
     ]
    }
   ],
   "source": [
    "#TODO\n",
    "conclusions = 'your conclusions'\n",
    "print('Conclusions:\\t', conclusions)"
   ]
  },
  {
   "cell_type": "markdown",
   "metadata": {},
   "source": [
    "## Q4. Power law distribution"
   ]
  },
  {
   "cell_type": "code",
   "execution_count": 18,
   "metadata": {},
   "outputs": [],
   "source": [
    "#TODO ccdf\n"
   ]
  },
  {
   "cell_type": "code",
   "execution_count": 19,
   "metadata": {},
   "outputs": [],
   "source": [
    "#TODO powerlaw\n"
   ]
  },
  {
   "cell_type": "code",
   "execution_count": 20,
   "metadata": {},
   "outputs": [
    {
     "name": "stdout",
     "output_type": "stream",
     "text": [
      "Conclusions:\t your conclusions\n"
     ]
    }
   ],
   "source": [
    "#TODO\n",
    "conclusions = 'your conclusions'\n",
    "print('Conclusions:\\t', conclusions)"
   ]
  }
 ],
 "metadata": {
  "kernelspec": {
   "display_name": "Python 3",
   "language": "python",
   "name": "python3"
  },
  "language_info": {
   "codemirror_mode": {
    "name": "ipython",
    "version": 3
   },
   "file_extension": ".py",
   "mimetype": "text/x-python",
   "name": "python",
   "nbconvert_exporter": "python",
   "pygments_lexer": "ipython3",
   "version": "3.8.5"
  }
 },
 "nbformat": 4,
 "nbformat_minor": 4
}